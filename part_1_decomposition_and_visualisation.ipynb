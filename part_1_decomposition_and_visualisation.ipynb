{
 "cells": [
  {
   "cell_type": "code",
   "execution_count": null,
   "metadata": {},
   "outputs": [],
   "source": [
    "!pip install uv\n",
    "!pip install -r requirements.txt"
   ]
  },
  {
   "cell_type": "markdown",
   "metadata": {},
   "source": [
    "**1. Import Necessary Libraries**\n",
    "\n",
    "Run this cell first to import all required libraries."
   ]
  },
  {
   "cell_type": "code",
   "execution_count": null,
   "metadata": {},
   "outputs": [],
   "source": [
    "import numpy as np\n",
    "import pandas as pd\n",
    "import matplotlib.pyplot as plt\n",
    "import seaborn as sns\n",
    "from statsmodels.tsa.seasonal import seasonal_decompose\n",
    "from pandas.plotting import lag_plot, autocorrelation_plot"
   ]
  },
  {
   "cell_type": "markdown",
   "metadata": {},
   "source": [
    "**2. Generate Synthetic Time Series Data**\n",
    "\n",
    "This creates a time series dataset with trend, seasonality, and noise."
   ]
  },
  {
   "cell_type": "code",
   "execution_count": null,
   "metadata": {},
   "outputs": [],
   "source": [
    "# Set random seed for reproducibility\n",
    "np.random.seed(42)\n",
    "\n",
    "# Create a date range for two years\n",
    "dates = pd.date_range(start='2020-01-01', periods=730, freq='D')\n",
    "\n",
    "# Generate components of the time series\n",
    "trend = np.linspace(10, 20, 730) + np.cumsum(np.random.normal(0, 0.05, 730))  # Linear trend + small random walk\n",
    "seasonality = 5 * np.sin(2 * np.pi * np.arange(730) / 365)  # Yearly seasonality\n",
    "noise = np.random.normal(0, 0.5, 730)  # Reduce noise amplitude\n",
    "\n",
    "# Combine components\n",
    "data_values = trend + seasonality + noise\n",
    "\n",
    "# Create Pandas DataFrame\n",
    "df = pd.DataFrame({'date': dates, 'sales': data_values})\n",
    "df.set_index('date', inplace=True)\n",
    "\n",
    "# Display first few rows\n",
    "df.head()"
   ]
  },
  {
   "cell_type": "markdown",
   "metadata": {},
   "source": [
    "**3. Plot Time Series Data**\n",
    "\n",
    "This plots the generated synthetic sales data."
   ]
  },
  {
   "cell_type": "code",
   "execution_count": null,
   "metadata": {},
   "outputs": [],
   "source": [
    "plt.figure(figsize=(12, 6))\n",
    "plt.plot(df.index, df['sales'], label=\"Sales\", color='b')\n",
    "plt.title(\"Synthetic Daily Sales Over Time\")\n",
    "plt.xlabel(\"Date\")\n",
    "plt.ylabel(\"Sales\")\n",
    "plt.legend()\n",
    "plt.show()"
   ]
  },
  {
   "cell_type": "markdown",
   "metadata": {},
   "source": [
    "**4. Decomposing the Time Series**\n",
    "\n",
    "Break down the series into trend, seasonality, and residuals."
   ]
  },
  {
   "cell_type": "code",
   "execution_count": null,
   "metadata": {},
   "outputs": [],
   "source": [
    "from statsmodels.tsa.seasonal import seasonal_decompose\n",
    "\n",
    "# Perform seasonal decomposition with improved settings\n",
    "decomposition = seasonal_decompose(df['sales'], model='additive', period=365, extrapolate_trend='freq')\n",
    "\n",
    "# Plot decomposition results\n",
    "decomposition.plot()\n",
    "plt.tight_layout()\n",
    "plt.show()"
   ]
  },
  {
   "cell_type": "markdown",
   "metadata": {},
   "source": [
    "**5. Create Monthly Box Plots**\n",
    "\n",
    "This visualizes how sales data is distributed over different months."
   ]
  },
  {
   "cell_type": "code",
   "execution_count": null,
   "metadata": {},
   "outputs": [],
   "source": [
    "df['month'] = df.index.month  # Extract month from date\n",
    "\n",
    "plt.figure(figsize=(10, 6))\n",
    "sns.boxplot(x='month', y='sales', data=df)\n",
    "plt.title(\"Monthly Sales Distribution\")\n",
    "plt.xlabel(\"Month\")\n",
    "plt.ylabel(\"Sales\")\n",
    "plt.show()"
   ]
  },
  {
   "cell_type": "markdown",
   "metadata": {},
   "source": [
    "**6. Generate and Plot a Heatmap**\n",
    "\n",
    "This visualizes average sales by month and year"
   ]
  },
  {
   "cell_type": "code",
   "execution_count": null,
   "metadata": {},
   "outputs": [],
   "source": [
    "df['year'] = df.index.year  # Extract year\n",
    "\n",
    "# Create a pivot table: average sales by month per year\n",
    "pivot = df.pivot_table(values='sales', index='year', columns='month', aggfunc='mean')\n",
    "\n",
    "# Plot heatmap\n",
    "plt.figure(figsize=(10, 6))\n",
    "sns.heatmap(pivot, cmap=\"YlGnBu\", annot=True, fmt=\".1f\")\n",
    "plt.title(\"Average Sales by Month and Year\")\n",
    "plt.xlabel(\"Month\")\n",
    "plt.ylabel(\"Year\")\n",
    "plt.show()"
   ]
  },
  {
   "cell_type": "markdown",
   "metadata": {},
   "source": [
    "**7. Lag and Autocorrelation Plots**\n",
    "\n",
    "These plots help understand how past values influence future values."
   ]
  },
  {
   "cell_type": "code",
   "execution_count": null,
   "metadata": {},
   "outputs": [],
   "source": [
    "# Lag Plot\n",
    "plt.figure(figsize=(6, 6))\n",
    "lag_plot(df['sales'])\n",
    "plt.title(\"Lag Plot of Sales\")\n",
    "plt.show()\n",
    "\n",
    "# Autocorrelation Plot\n",
    "plt.figure(figsize=(10, 6))\n",
    "autocorrelation_plot(df['sales'])\n",
    "plt.title(\"Autocorrelation of Sales\")\n",
    "plt.show()"
   ]
  },
  {
   "cell_type": "markdown",
   "metadata": {},
   "source": [
    "**8. Save the Data for Future Use**\n",
    "\n",
    "This saves the generated dataset to a CSV file."
   ]
  },
  {
   "cell_type": "code",
   "execution_count": null,
   "metadata": {},
   "outputs": [],
   "source": [
    "df.to_csv(\"synthetic_sales_data.csv\")\n",
    "print(\"Dataset saved as 'synthetic_sales_data.csv'\")"
   ]
  },
  {
   "cell_type": "markdown",
   "metadata": {},
   "source": [
    "## **How to Use This Notebook**\n",
    "\n",
    "1.\tCopy each section into separate cells in an IPython notebook.\n",
    "2.\tRun them sequentially to generate and explore time series data.\n",
    "3.\tModify the dataset generation (e.g., change period=365 in decomposition for different frequencies).\n",
    "4.\tSave the data for later forecasting model training.\n",
    "\n",
    "This setup provides a hands-on approach to understanding time series forecasting while using LLMs to generate relevant Python code. 🚀"
   ]
  },
  {
   "cell_type": "markdown",
   "metadata": {},
   "source": []
  }
 ],
 "metadata": {
  "kernelspec": {
   "display_name": ".venv",
   "language": "python",
   "name": "python3"
  },
  "language_info": {
   "codemirror_mode": {
    "name": "ipython",
    "version": 3
   },
   "file_extension": ".py",
   "mimetype": "text/x-python",
   "name": "python",
   "nbconvert_exporter": "python",
   "pygments_lexer": "ipython3",
   "version": "3.12.8"
  }
 },
 "nbformat": 4,
 "nbformat_minor": 2
}
